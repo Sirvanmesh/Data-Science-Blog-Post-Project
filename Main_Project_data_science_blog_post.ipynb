{
 "cells": [
  {
   "cell_type": "markdown",
   "id": "35248085-39c2-4ecc-8e5f-56090bf93e4b",
   "metadata": {},
   "source": [
    "# Step 1: Business Understanding\n",
    "\n",
    "## Dataset\n",
    "This dataset contains GDP data (current US dollars) for countries from 2000 to 2015. It uses the World Bank's popular GDP indicator (NY.GDP.MKTP.CD).\n",
    "\n",
    "## Goal\n",
    "Analyze historical GDP trends and build a model to predict GDP for the year 2016, aiding economic forecasting and decision-making.\n",
    "\n",
    "## Key Questions\n",
    "1. Which countries had the most GDP growth from 2000 to 2015?\n",
    "2. How did GDP behave during the 2008 financial crisis?\n",
    "3. Can we predict 2016 GDP using past data?\n",
    "4. What are the regional GDP patterns?\n",
    "5. Which countries have the fastest long-term growth?\n"
   ]
  },
  {
   "cell_type": "code",
   "execution_count": null,
   "id": "e7d030e1-c6c3-4d7e-a4a2-d0ec1fd5674e",
   "metadata": {},
   "outputs": [],
   "source": []
  }
 ],
 "metadata": {
  "kernelspec": {
   "display_name": "Python 3 (ipykernel)",
   "language": "python",
   "name": "python3"
  },
  "language_info": {
   "codemirror_mode": {
    "name": "ipython",
    "version": 3
   },
   "file_extension": ".py",
   "mimetype": "text/x-python",
   "name": "python",
   "nbconvert_exporter": "python",
   "pygments_lexer": "ipython3",
   "version": "3.12.7"
  }
 },
 "nbformat": 4,
 "nbformat_minor": 5
}
